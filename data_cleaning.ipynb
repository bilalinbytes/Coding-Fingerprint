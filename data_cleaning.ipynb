{
 "cells": [
  {
   "cell_type": "code",
   "execution_count": 1,
   "id": "0a95c37f",
   "metadata": {},
   "outputs": [],
   "source": [
    "import pandas as pd\n",
    "import numpy as np"
   ]
  },
  {
   "cell_type": "code",
   "execution_count": 4,
   "id": "518caa73",
   "metadata": {},
   "outputs": [
    {
     "data": {
      "application/vnd.microsoft.datawrangler.viewer.v0+json": {
       "columns": [
        {
         "name": "index",
         "rawType": "int64",
         "type": "integer"
        },
        {
         "name": "Handle",
         "rawType": "object",
         "type": "string"
        },
        {
         "name": "Rank",
         "rawType": "object",
         "type": "string"
        },
        {
         "name": "Country",
         "rawType": "object",
         "type": "string"
        }
       ],
       "ref": "3ebeb18c-456e-4f64-b507-ccb53a062f9e",
       "rows": [
        [
         "0",
         "jiangly",
         "legendary grandmaster",
         "China"
        ],
        [
         "1",
         "ksun48",
         "legendary grandmaster",
         "Canada"
        ],
        [
         "2",
         "Kevin114514",
         "legendary grandmaster",
         "China"
        ],
        [
         "3",
         "Benq",
         "legendary grandmaster",
         "United States"
        ],
        [
         "4",
         "tourist",
         "legendary grandmaster",
         "Belarus"
        ]
       ],
       "shape": {
        "columns": 3,
        "rows": 5
       }
      },
      "text/html": [
       "<div>\n",
       "<style scoped>\n",
       "    .dataframe tbody tr th:only-of-type {\n",
       "        vertical-align: middle;\n",
       "    }\n",
       "\n",
       "    .dataframe tbody tr th {\n",
       "        vertical-align: top;\n",
       "    }\n",
       "\n",
       "    .dataframe thead th {\n",
       "        text-align: right;\n",
       "    }\n",
       "</style>\n",
       "<table border=\"1\" class=\"dataframe\">\n",
       "  <thead>\n",
       "    <tr style=\"text-align: right;\">\n",
       "      <th></th>\n",
       "      <th>Handle</th>\n",
       "      <th>Rank</th>\n",
       "      <th>Country</th>\n",
       "    </tr>\n",
       "  </thead>\n",
       "  <tbody>\n",
       "    <tr>\n",
       "      <th>0</th>\n",
       "      <td>jiangly</td>\n",
       "      <td>legendary grandmaster</td>\n",
       "      <td>China</td>\n",
       "    </tr>\n",
       "    <tr>\n",
       "      <th>1</th>\n",
       "      <td>ksun48</td>\n",
       "      <td>legendary grandmaster</td>\n",
       "      <td>Canada</td>\n",
       "    </tr>\n",
       "    <tr>\n",
       "      <th>2</th>\n",
       "      <td>Kevin114514</td>\n",
       "      <td>legendary grandmaster</td>\n",
       "      <td>China</td>\n",
       "    </tr>\n",
       "    <tr>\n",
       "      <th>3</th>\n",
       "      <td>Benq</td>\n",
       "      <td>legendary grandmaster</td>\n",
       "      <td>United States</td>\n",
       "    </tr>\n",
       "    <tr>\n",
       "      <th>4</th>\n",
       "      <td>tourist</td>\n",
       "      <td>legendary grandmaster</td>\n",
       "      <td>Belarus</td>\n",
       "    </tr>\n",
       "  </tbody>\n",
       "</table>\n",
       "</div>"
      ],
      "text/plain": [
       "        Handle                   Rank        Country\n",
       "0      jiangly  legendary grandmaster          China\n",
       "1       ksun48  legendary grandmaster         Canada\n",
       "2  Kevin114514  legendary grandmaster          China\n",
       "3         Benq  legendary grandmaster  United States\n",
       "4      tourist  legendary grandmaster        Belarus"
      ]
     },
     "execution_count": 4,
     "metadata": {},
     "output_type": "execute_result"
    }
   ],
   "source": [
    "df = pd.read_csv('./codeforces_filtered_users.csv')\n",
    "\n",
    "df.head()"
   ]
  },
  {
   "cell_type": "code",
   "execution_count": 5,
   "id": "7be1f0b1",
   "metadata": {},
   "outputs": [
    {
     "data": {
      "application/vnd.microsoft.datawrangler.viewer.v0+json": {
       "columns": [
        {
         "name": "index",
         "rawType": "object",
         "type": "string"
        },
        {
         "name": "0",
         "rawType": "int64",
         "type": "integer"
        }
       ],
       "ref": "52d35af2-7b5f-4636-adf8-7790038d7e85",
       "rows": [
        [
         "Handle",
         "0"
        ],
        [
         "Rank",
         "0"
        ],
        [
         "Country",
         "0"
        ]
       ],
       "shape": {
        "columns": 1,
        "rows": 3
       }
      },
      "text/plain": [
       "Handle     0\n",
       "Rank       0\n",
       "Country    0\n",
       "dtype: int64"
      ]
     },
     "execution_count": 5,
     "metadata": {},
     "output_type": "execute_result"
    }
   ],
   "source": [
    "df.isnull().sum()"
   ]
  },
  {
   "cell_type": "code",
   "execution_count": 6,
   "id": "d495792f",
   "metadata": {},
   "outputs": [
    {
     "data": {
      "text/plain": [
       "14121"
      ]
     },
     "execution_count": 6,
     "metadata": {},
     "output_type": "execute_result"
    }
   ],
   "source": [
    "len(df)"
   ]
  },
  {
   "cell_type": "code",
   "execution_count": 8,
   "id": "d983cbdc",
   "metadata": {},
   "outputs": [
    {
     "data": {
      "text/plain": [
       "np.int64(0)"
      ]
     },
     "execution_count": 8,
     "metadata": {},
     "output_type": "execute_result"
    }
   ],
   "source": [
    "df.duplicated().sum()"
   ]
  },
  {
   "cell_type": "code",
   "execution_count": 10,
   "id": "de66967c",
   "metadata": {},
   "outputs": [
    {
     "data": {
      "application/vnd.microsoft.datawrangler.viewer.v0+json": {
       "columns": [
        {
         "name": "Country",
         "rawType": "object",
         "type": "string"
        },
        {
         "name": "count",
         "rawType": "int64",
         "type": "integer"
        }
       ],
       "ref": "14072ed7-96fb-494f-be02-157e5c744553",
       "rows": [
        [
         "India",
         "5869"
        ],
        [
         "China",
         "1912"
        ],
        [
         "Bangladesh",
         "866"
        ],
        [
         "Russia",
         "641"
        ],
        [
         "Egypt",
         "579"
        ],
        [
         "Vietnam",
         "461"
        ],
        [
         "United States",
         "239"
        ],
        [
         "South Korea",
         "189"
        ],
        [
         "Kazakhstan",
         "180"
        ],
        [
         "Iran",
         "170"
        ],
        [
         "Brazil",
         "168"
        ],
        [
         "Japan",
         "159"
        ],
        [
         "Syria",
         "133"
        ],
        [
         "Palestinian Territory",
         "125"
        ],
        [
         "Taiwan",
         "124"
        ],
        [
         "Poland",
         "123"
        ],
        [
         "Romania",
         "97"
        ],
        [
         "Indonesia",
         "93"
        ],
        [
         "Belarus",
         "73"
        ],
        [
         "Ukraine",
         "73"
        ],
        [
         "Tunisia",
         "72"
        ],
        [
         "Mexico",
         "70"
        ],
        [
         "Jordan",
         "63"
        ],
        [
         "Pakistan",
         "62"
        ],
        [
         "Canada",
         "59"
        ],
        [
         "Azerbaijan",
         "58"
        ],
        [
         "Antarctica",
         "55"
        ],
        [
         "Uzbekistan",
         "53"
        ],
        [
         "Türkiye",
         "52"
        ],
        [
         "Georgia",
         "51"
        ],
        [
         "Germany",
         "50"
        ],
        [
         "Kyrgyzstan",
         "45"
        ],
        [
         "Hong Kong",
         "43"
        ],
        [
         "Spain",
         "42"
        ],
        [
         "Peru",
         "42"
        ],
        [
         "Italy",
         "42"
        ],
        [
         "Cuba",
         "41"
        ],
        [
         "Tajikistan",
         "41"
        ],
        [
         "Serbia",
         "40"
        ],
        [
         "Singapore",
         "37"
        ],
        [
         "France",
         "35"
        ],
        [
         "Thailand",
         "35"
        ],
        [
         "Mongolia",
         "35"
        ],
        [
         "Argentina",
         "33"
        ],
        [
         "Morocco",
         "33"
        ],
        [
         "North Korea",
         "31"
        ],
        [
         "Colombia",
         "31"
        ],
        [
         "Ethiopia",
         "29"
        ],
        [
         "Croatia",
         "27"
        ],
        [
         "United Kingdom",
         "23"
        ]
       ],
       "shape": {
        "columns": 1,
        "rows": 154
       }
      },
      "text/plain": [
       "Country\n",
       "India          5869\n",
       "China          1912\n",
       "Bangladesh      866\n",
       "Russia          641\n",
       "Egypt           579\n",
       "               ... \n",
       "Mayotte           1\n",
       "Afghanistan       1\n",
       "Mauritania        1\n",
       "Eritrea           1\n",
       "Montenegro        1\n",
       "Name: count, Length: 154, dtype: int64"
      ]
     },
     "execution_count": 10,
     "metadata": {},
     "output_type": "execute_result"
    }
   ],
   "source": [
    "df['Country'].value_counts()"
   ]
  },
  {
   "cell_type": "code",
   "execution_count": 11,
   "id": "986ea4bd",
   "metadata": {},
   "outputs": [
    {
     "data": {
      "application/vnd.microsoft.datawrangler.viewer.v0+json": {
       "columns": [
        {
         "name": "Rank",
         "rawType": "object",
         "type": "string"
        },
        {
         "name": "count",
         "rawType": "int64",
         "type": "integer"
        }
       ],
       "ref": "ab705897-eb12-4553-9f7a-eec0397c48b3",
       "rows": [
        [
         "pupil",
         "4370"
        ],
        [
         "specialist",
         "3142"
        ],
        [
         "expert",
         "2669"
        ],
        [
         "newbie",
         "2160"
        ],
        [
         "candidate master",
         "773"
        ],
        [
         "master",
         "579"
        ],
        [
         "grandmaster",
         "155"
        ],
        [
         "international grandmaster",
         "126"
        ],
        [
         "international master",
         "111"
        ],
        [
         "legendary grandmaster",
         "36"
        ]
       ],
       "shape": {
        "columns": 1,
        "rows": 10
       }
      },
      "text/plain": [
       "Rank\n",
       "pupil                        4370\n",
       "specialist                   3142\n",
       "expert                       2669\n",
       "newbie                       2160\n",
       "candidate master              773\n",
       "master                        579\n",
       "grandmaster                   155\n",
       "international grandmaster     126\n",
       "international master          111\n",
       "legendary grandmaster          36\n",
       "Name: count, dtype: int64"
      ]
     },
     "execution_count": 11,
     "metadata": {},
     "output_type": "execute_result"
    }
   ],
   "source": [
    "df['Rank'].value_counts()"
   ]
  },
  {
   "cell_type": "code",
   "execution_count": null,
   "id": "538c78f7",
   "metadata": {},
   "outputs": [],
   "source": []
  }
 ],
 "metadata": {
  "kernelspec": {
   "display_name": "coding-fingerprint",
   "language": "python",
   "name": "python3"
  },
  "language_info": {
   "codemirror_mode": {
    "name": "ipython",
    "version": 3
   },
   "file_extension": ".py",
   "mimetype": "text/x-python",
   "name": "python",
   "nbconvert_exporter": "python",
   "pygments_lexer": "ipython3",
   "version": "3.13.7"
  }
 },
 "nbformat": 4,
 "nbformat_minor": 5
}
